{
  "nbformat": 4,
  "nbformat_minor": 0,
  "metadata": {
    "colab": {
      "name": "tzero_research.ipynb",
      "version": "0.3.2",
      "provenance": [],
      "include_colab_link": true
    },
    "kernelspec": {
      "name": "python3",
      "display_name": "Python 3"
    }
  },
  "cells": [
    {
      "cell_type": "markdown",
      "metadata": {
        "id": "view-in-github",
        "colab_type": "text"
      },
      "source": [
        "<a href=\"https://colab.research.google.com/github/congminghaoxue/learn_python/blob/master/tzero_research.ipynb\" target=\"_parent\"><img src=\"https://colab.research.google.com/assets/colab-badge.svg\" alt=\"Open In Colab\"/></a>"
      ]
    },
    {
      "metadata": {
        "id": "p0xjyTW92Dns",
        "colab_type": "code",
        "colab": {}
      },
      "cell_type": "code",
      "source": [
        "#!pip install web3\n",
        "#!pip install requests"
      ],
      "execution_count": 0,
      "outputs": []
    },
    {
      "metadata": {
        "id": "gbW87Vsv24qI",
        "colab_type": "code",
        "colab": {}
      },
      "cell_type": "code",
      "source": [
        "#from google.colab import drive\n",
        "#drive.mount('/content/drive/')"
      ],
      "execution_count": 0,
      "outputs": []
    },
    {
      "metadata": {
        "id": "QUL0LiGn27O9",
        "colab_type": "code",
        "colab": {}
      },
      "cell_type": "code",
      "source": [
        "!ls \"/content/drive/My Drive/\""
      ],
      "execution_count": 0,
      "outputs": []
    },
    {
      "metadata": {
        "id": "qsEsrLhA3IgK",
        "colab_type": "code",
        "colab": {}
      },
      "cell_type": "code",
      "source": [
        "import requests\n",
        "from eth_abi import decode_abi\n",
        "from eth_utils import encode_hex, function_signature_to_4byte_selector\n",
        "from web3 import Web3, HTTPProvider\n",
        "from web3.utils.encoding import (\n",
        "    to_hex,\n",
        ")"
      ],
      "execution_count": 0,
      "outputs": []
    },
    {
      "metadata": {
        "id": "mu2eQfV330pJ",
        "colab_type": "code",
        "colab": {}
      },
      "cell_type": "code",
      "source": [
        "w3=Web3(HTTPProvider(endpoint_uri=\"https://mainnet.infura.io/KOlHZQ8Rm8c3rxAW3yrC\"))"
      ],
      "execution_count": 0,
      "outputs": []
    },
    {
      "metadata": {
        "id": "X_7zdcWh4HIY",
        "colab_type": "code",
        "colab": {}
      },
      "cell_type": "code",
      "source": [
        "addr=\"0x135c70a836a3819afa8b257ee6ef345ef38f92d7\"\n",
        "tran_info = requests.get('https://api.etherscan.io/api', params={\n",
        "            \"module\": \"account\",\n",
        "            \"action\": \"tokentx\",\n",
        "            \"address\": addr,\n",
        "            \"startblock\": 0,\n",
        "            \"endblock\": 999999999,\n",
        "            \"sort\": \"desc\",\n",
        "        }).json()"
      ],
      "execution_count": 0,
      "outputs": []
    },
    {
      "metadata": {
        "id": "P3jYIixJ4bWU",
        "colab_type": "code",
        "colab": {
          "base_uri": "https://localhost:8080/",
          "height": 394
        },
        "outputId": "b21f7db4-73bb-4a67-987e-debaf7be120e"
      },
      "cell_type": "code",
      "source": [
        "tran_info"
      ],
      "execution_count": 12,
      "outputs": [
        {
          "output_type": "execute_result",
          "data": {
            "text/plain": [
              "{'message': 'OK',\n",
              " 'result': [{'blockHash': '0x32201b375b629b442eada472064fd79e760f7949e490a8f5f8ddc31a006fcdce',\n",
              "   'blockNumber': '6504249',\n",
              "   'confirmations': '148536',\n",
              "   'contractAddress': '0xc4bf277257c140a799b785c6c5096c6da7ef6a62',\n",
              "   'cumulativeGasUsed': '1087291',\n",
              "   'from': '0xd8ccbfcf6b4fd3d1ae85f8c0cc92c9170081d144',\n",
              "   'gas': '102724',\n",
              "   'gasPrice': '18000000000',\n",
              "   'gasUsed': '102724',\n",
              "   'hash': '0xb9d3944f880097fe4f36c7038c7eef1cfbfa975fbfa009666f513f83ce5b3ee5',\n",
              "   'input': '0xa9059cbb000000000000000000000000135c70a836a3819afa8b257ee6ef345ef38f92d70000000000000000000000000000000000000000000000000000000000551959',\n",
              "   'nonce': '1078',\n",
              "   'timeStamp': '1539390172',\n",
              "   'to': '0x135c70a836a3819afa8b257ee6ef345ef38f92d7',\n",
              "   'tokenDecimal': '',\n",
              "   'tokenName': '',\n",
              "   'tokenSymbol': '',\n",
              "   'transactionIndex': '9',\n",
              "   'value': '5577049'}],\n",
              " 'status': '1'}"
            ]
          },
          "metadata": {
            "tags": []
          },
          "execution_count": 12
        }
      ]
    }
  ]
}